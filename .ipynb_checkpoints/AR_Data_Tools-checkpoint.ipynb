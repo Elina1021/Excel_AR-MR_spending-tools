{
 "cells": [
  {
   "cell_type": "code",
   "execution_count": 1,
   "metadata": {
    "ExecuteTime": {
     "end_time": "2020-04-20T09:56:59.953658Z",
     "start_time": "2020-04-20T09:56:58.258845Z"
    }
   },
   "outputs": [],
   "source": [
    "import os\n",
    "import xlrd\n",
    "import pandas as pd\n",
    "import xlwings as xw\n",
    "import openpyxl\n",
    "from openpyxl import load_workbook\n",
    "from collections import namedtuple"
   ]
  },
  {
   "cell_type": "markdown",
   "metadata": {},
   "source": [
    "### 函数"
   ]
  },
  {
   "cell_type": "code",
   "execution_count": 2,
   "metadata": {
    "ExecuteTime": {
     "end_time": "2020-04-20T09:57:00.340643Z",
     "start_time": "2020-04-20T09:57:00.314704Z"
    }
   },
   "outputs": [],
   "source": [
    "def vlookup_combine(df_left, df_right, key_left, key_right, lookup_right):\n",
    "    '''\n",
    "    返回df: 查找列key_left; 匹配列key_right; 匹配值lookup_right\n",
    "    '''\n",
    "    v_left = df_left[[key_left]].astype('object')\n",
    "    v_left.columns = ['key_left']\n",
    "    # 如果匹配列名字相同，手工增加一列\n",
    "    if key_right == lookup_right:\n",
    "        v_right = df_right[[key_right]].astype('object')\n",
    "        v_right[key_right+lookup_right] = v_right[key_right]\n",
    "    else:\n",
    "        v_right = df_right[[key_right, lookup_right]].astype('object')\n",
    "    v_right.columns = ['key_right', 'lookup_right']\n",
    "    v_right.drop_duplicates(inplace=True)\n",
    "    v_combine = v_left.merge(v_right, how='left', left_on=[\n",
    "                             'key_left'], right_on=['key_right'])\n",
    "    return v_combine\n",
    "\n",
    "\n",
    "def vlookup_not_exist_key(v_combine):\n",
    "    '''\n",
    "    返回list: v_combine中未能匹配的'key_left'\n",
    "    '''\n",
    "    v_not_exist = v_combine[v_combine['key_right'].isna()]['key_left']\n",
    "    list_not_exist = v_not_exist.drop_duplicates().to_list()\n",
    "    return list_not_exist\n",
    "\n",
    "\n",
    "def vlookup(df_left, df_right, key_left, key_right, lookup_right, default=None):\n",
    "    '''\n",
    "    返回字典: \n",
    "    1. 如果有不能匹配的,返回{None:不能匹配的列表}\n",
    "    2. 如果都能匹配, 返回{True:匹配列表}\n",
    "    '''\n",
    "    v_combine = vlookup_combine(\n",
    "        df_left, df_right, key_left, key_right, lookup_right)\n",
    "    if default is None:\n",
    "        not_exist_key = vlookup_not_exist_key(v_combine)\n",
    "        if not_exist_key:\n",
    "            return {None: not_exist_key}\n",
    "        else:\n",
    "            return {True: v_combine['lookup_right'].to_list()}\n",
    "    else:\n",
    "        v_combine['lookup_right'] = v_combine['lookup_right'].fillna(default)\n",
    "        return {True: v_combine['lookup_right'].to_list()}\n",
    "\n",
    "\n",
    "def xw_get_book(filename=None):\n",
    "    if filename is None:\n",
    "        book = xw.Book.caller()\n",
    "    else:\n",
    "        try:\n",
    "            book = xw.Book(filename)\n",
    "        except FileNotFoundError:\n",
    "            book = xw.Book()\n",
    "            book.save(filename)\n",
    "    return book\n",
    "\n",
    "\n",
    "def xw_get_df(book, sheet_name):\n",
    "    '''\n",
    "    获取sheet_name数据\n",
    "    '''\n",
    "    sheet = book.sheets(sheet_name)\n",
    "    # 需要再调整\n",
    "    data = sheet.range((1, 1), sheet.used_range.shape)\n",
    "    df = pd.DataFrame(data.value[1:], columns=data.value[0])\n",
    "    return df\n",
    "\n",
    "\n",
    "def xw_fill_sheet_with_df(cell, df):\n",
    "    cell.value = df.columns.values\n",
    "    cell.offset(1, 0).value = df.values\n",
    "\n",
    "\n",
    "def clear_and_fill_sheet(book, sheet_name, df):\n",
    "    sheet = book.sheets(sheet_name)\n",
    "    sheet.clear_contents()\n",
    "    cell = sheet.cells(1, 1)\n",
    "    xw_fill_sheet_with_df(cell, df)\n",
    "    return book"
   ]
  },
  {
   "cell_type": "markdown",
   "metadata": {},
   "source": [
    "### main"
   ]
  },
  {
   "cell_type": "code",
   "execution_count": 3,
   "metadata": {
    "ExecuteTime": {
     "end_time": "2020-04-20T09:57:16.582754Z",
     "start_time": "2020-04-20T09:57:02.221211Z"
    }
   },
   "outputs": [],
   "source": [
    "def main(filename_data=None):\n",
    "    # 1.读取数据\n",
    "    book = xw_get_book(filename_data)\n",
    "    # 1.1 获取原始数据\n",
    "    sheet_name_data = 'AR_Data'\n",
    "    df_data = xw_get_df(book,sheet_name_data)\n",
    "    # 1.2 读取list\n",
    "    sheet_name_right = 'list'\n",
    "    df_right = xw_get_df(book,sheet_name_right)\n",
    "\n",
    "    # 2.读取转换后的当月花费数据\n",
    "    filename_update = 'currentdata.txt'\n",
    "    df_left = pd.read_csv(filename_update,sep='\\t')\n",
    "\n",
    "    # 3.数据处理\n",
    "    VReplace = namedtuple('VReplace',\n",
    "                          ['key_left', 'key_right', 'lookup_right', 'default']\n",
    "                          )\n",
    "\n",
    "    multi_processes = [\n",
    "        # 3.1 替换品牌\n",
    "        (VReplace('品牌', '品牌', 'Brand_EN', 'OTHER')),\n",
    "        # 3.2 替换车型_key\n",
    "        (VReplace('车型', '车型_key', '车型_key', 'OTHER')),\n",
    "        # 3.3 替换AR_Catetory\n",
    "        (VReplace('车型', '车型_key', 'AR_Category', 'OTHER')),\n",
    "        # 3.4 替换AR_Model\n",
    "        (VReplace('车型', '车型_key', 'AR_Model', 'OTHER')),\n",
    "    ]\n",
    "\n",
    "    for key_left, key_right, lookup_right, default in multi_processes:\n",
    "        df_v = vlookup(df_left, df_right, key_left, key_right, lookup_right,default)\n",
    "        df_left[lookup_right] = df_v[True]\n",
    "\n",
    "    # 3.5 折算花费（百万）\n",
    "    df_left['折算花费（百万）'] = df_left['折算花费（万元）']/100\n",
    "\n",
    "    # 4 获取结果\n",
    "    df_res = pd.concat([df_data,df_left])\n",
    "    df_res.drop_duplicates(inplace=True)\n",
    "\n",
    "    # 5. 填充数据\n",
    "    book = clear_and_fill_sheet(book, sheet_name_data, df_res)\n",
    "    book.save()"
   ]
  },
  {
   "cell_type": "code",
   "execution_count": 51,
   "metadata": {
    "ExecuteTime": {
     "end_time": "2020-04-20T09:52:46.417663Z",
     "start_time": "2020-04-20T09:52:46.407690Z"
    }
   },
   "outputs": [],
   "source": [
    "if __name__ == '__main__':\n",
    "    filename_data = 'spending_data_test.xlsx'\n",
    "    main(filename_data)"
   ]
  }
 ],
 "metadata": {
  "kernelspec": {
   "display_name": "Python 3",
   "language": "python",
   "name": "python3"
  },
  "varInspector": {
   "cols": {
    "lenName": 16,
    "lenType": 16,
    "lenVar": 40
   },
   "kernels_config": {
    "python": {
     "delete_cmd_postfix": "",
     "delete_cmd_prefix": "del ",
     "library": "var_list.py",
     "varRefreshCmd": "print(var_dic_list())"
    },
    "r": {
     "delete_cmd_postfix": ") ",
     "delete_cmd_prefix": "rm(",
     "library": "var_list.r",
     "varRefreshCmd": "cat(var_dic_list()) "
    }
   },
   "types_to_exclude": [
    "module",
    "function",
    "builtin_function_or_method",
    "instance",
    "_Feature"
   ],
   "window_display": false
  }
 },
 "nbformat": 4,
 "nbformat_minor": 2
}
